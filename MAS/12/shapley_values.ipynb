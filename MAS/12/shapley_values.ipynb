{
 "cells": [
  {
   "cell_type": "code",
   "execution_count": 1,
   "id": "twelve-combine",
   "metadata": {},
   "outputs": [],
   "source": [
    "from scipy.special import factorial\n",
    "from itertools import combinations"
   ]
  },
  {
   "cell_type": "markdown",
   "id": "intense-camping",
   "metadata": {},
   "source": [
    "$\\phi_{i}(N,v) = \\dfrac{1}{|N|!} \\sum\\limits_{S \\subseteq N \\backslash \\{i\\}} |S|!(|N|-|S|-1)![v(S\\cup\\{i\\}) - v(S)]$"
   ]
  },
  {
   "cell_type": "code",
   "execution_count": 2,
   "id": "purple-short",
   "metadata": {},
   "outputs": [],
   "source": [
    "def voting_game(S):\n",
    "    \"\"\"A parliament is made up of four political parties,\n",
    "    A, B, C, and D, which have 45, 25, 15, and 15 representatives, respectively. They\n",
    "    are to vote on whether to pass a $100 million spending bill and how much of this\n",
    "    amount should be controlled by each of the parties. A majority vote, that is, a\n",
    "    minimum of 51 votes, is required in order to pass any legislation, and if the bill\n",
    "    does not pass then every party gets zero to spend.\n",
    "    More generally, in a voting game, there is a set of agents N and a set of coalitions W ⊆ 2\n",
    "    N that are winning coalitions, that is, coalitions that are sufficient for\n",
    "    the passage of the bill if all its members choose to do so. To each coalition S ∈ W,\n",
    "    we assign v(S) = 1, and to the others we assign v(S) = 0.\n",
    "    \"\"\"\n",
    "    return 100 if sum(S) > 50 else 0\n",
    "\n",
    "def single_val(i, abs_n, S, v=voting_game):\n",
    "    abs_s = len(S)\n",
    "    left = (factorial(abs_s) * factorial(abs_n - abs_s -1))\n",
    "    right = (v(S + [i]) - v(S))\n",
    "    return left * right\n",
    "\n",
    "\n",
    "def shapley(i, N, v=voting_game):\n",
    "    abs_n = len(N)\n",
    "    Nc = N[:]\n",
    "    Nc.remove(i)\n",
    "    N_f = factorial(abs_n)\n",
    "    sum_list = [single_val(i, abs_n, [])]\n",
    "    for rep in range(abs_n):\n",
    "        for S in combinations(Nc, rep):\n",
    "            sum_list.append(single_val(i, abs_n, list(S), v=v))\n",
    "    return sum(sum_list) / N_f"
   ]
  },
  {
   "cell_type": "code",
   "execution_count": 3,
   "id": "precious-albany",
   "metadata": {},
   "outputs": [
    {
     "data": {
      "text/plain": [
       "50.0"
      ]
     },
     "execution_count": 3,
     "metadata": {},
     "output_type": "execute_result"
    }
   ],
   "source": [
    "N = [45, 25, 15, 15,]\n",
    "shapley(45, N)"
   ]
  },
  {
   "cell_type": "code",
   "execution_count": 4,
   "id": "surprised-edward",
   "metadata": {},
   "outputs": [
    {
     "data": {
      "text/plain": [
       "16.666666666666668"
      ]
     },
     "execution_count": 4,
     "metadata": {},
     "output_type": "execute_result"
    }
   ],
   "source": [
    "shapley(25, N)"
   ]
  },
  {
   "cell_type": "code",
   "execution_count": 5,
   "id": "copyrighted-absorption",
   "metadata": {},
   "outputs": [
    {
     "data": {
      "text/plain": [
       "16.666666666666668"
      ]
     },
     "execution_count": 5,
     "metadata": {},
     "output_type": "execute_result"
    }
   ],
   "source": [
    "shapley(15, N)"
   ]
  },
  {
   "cell_type": "code",
   "execution_count": 6,
   "id": "chicken-reggae",
   "metadata": {},
   "outputs": [
    {
     "name": "stdout",
     "output_type": "stream",
     "text": [
      "[(45, 16.25), (25, 16.25), (15, 11.25), (15, 11.25)]\n"
     ]
    }
   ],
   "source": [
    "def airport_game(S):\n",
    "    \"\"\"A number of cities need airport capacity. If a\n",
    "    new regional airport is built the cities will have to share its cost, which will depend\n",
    "    on the largest aircraft that the runway can accommodate. Otherwise each city will\n",
    "    have to build its own airport.\n",
    "    This situation can be modeled as a coalitional game (N,v), where N is the set\n",
    "    of cities, and v(S) is the sum of the costs of building runways for each city in S\n",
    "    minus the cost of the largest runway required by any city in S.\n",
    "    \"\"\"\n",
    "    return sum(S) - max(S) if S else sum(S)\n",
    "\n",
    "print([*zip(N, (shapley(n, N, v=airport_game) for n in N))])"
   ]
  },
  {
   "cell_type": "code",
   "execution_count": 7,
   "id": "quality-maple",
   "metadata": {},
   "outputs": [],
   "source": [
    "def __shapley_old(i, N, v=voting_game):\n",
    "    abs_n = len(N)\n",
    "    Nc = N[:]\n",
    "    Nc.remove(i)\n",
    "    N_f = factorial(abs_n)\n",
    "    sum_list = [] # [single_val(i, abs_n, [])]\n",
    "    for S in Nc:\n",
    "        print(S)\n",
    "        sum_list.append(single_val(i, abs_n, [S]))\n",
    "    for S in combinations(Nc, 2):\n",
    "        print(S)\n",
    "        sum_list.append(single_val(i, abs_n, list(S)))\n",
    "    for S in combinations(Nc, 3):\n",
    "        print(S)\n",
    "        sum_list.append(single_val(i, abs_n, list(S)))\n",
    "    print(sum_list, len(sum_list))\n",
    "    return sum(sum_list) / N_f"
   ]
  }
 ],
 "metadata": {
  "kernelspec": {
   "display_name": "Python 3",
   "language": "python",
   "name": "python3"
  },
  "language_info": {
   "codemirror_mode": {
    "name": "ipython",
    "version": 3
   },
   "file_extension": ".py",
   "mimetype": "text/x-python",
   "name": "python",
   "nbconvert_exporter": "python",
   "pygments_lexer": "ipython3",
   "version": "3.7.9"
  }
 },
 "nbformat": 4,
 "nbformat_minor": 5
}
