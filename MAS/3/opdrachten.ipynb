{
 "metadata": {
  "language_info": {
   "codemirror_mode": {
    "name": "ipython",
    "version": 3
   },
   "file_extension": ".py",
   "mimetype": "text/x-python",
   "name": "python",
   "nbconvert_exporter": "python",
   "pygments_lexer": "ipython3",
   "version": "3.8.8-final"
  },
  "orig_nbformat": 2,
  "kernelspec": {
   "name": "python3",
   "display_name": "Python 3.8.8 64-bit",
   "metadata": {
    "interpreter": {
     "hash": "1baa965d5efe3ac65b79dfc60c0d706280b1da80fedb7760faf2759126c4f253"
    }
   }
  }
 },
 "nbformat": 4,
 "nbformat_minor": 2,
 "cells": [
  {
   "source": [
    "# 3 Introduction to Noncooperative Game Theory: _Games in Normal Form_\n",
    "\n",
    "- Utility & Utility function\n",
    "- Normal-form spellen\n",
    "- Strategien in normal-form spellen\n",
    "- Pareto-optimality\n",
    "- Nash Equilibrium\n",
    "- Minmax en andere strategien"
   ],
   "cell_type": "markdown",
   "metadata": {}
  },
  {
   "source": [
    "_Noncooperative game theory_ betekent niet direct dat individuele agenten tegenstrijdige en conflicterende interesses hebben. Game theory is de studie naar onafhankelijke agenten die allen hun eigen interesses hebben. Een eigen interesse kan ook dezelfde zijn als die van de andere agenten.\n",
    "\n",
    "TODO: Game Theory definitie uitbreiden en verder toelichten"
   ],
   "cell_type": "markdown",
   "metadata": {}
  },
  {
   "source": [
    "## Utility & Utility Function\n",
    "\n",
    "Utility: De waarde/mate van geluk van een keuze gegeven een (kans)distributie van keuzes en kennis van de agent over deze keuzes.\n",
    "\n",
    "Om de verwachtte mate van geluk te bepalen wordt de kans van iedere keuze maal de waarde van de keuze gedaan. De keuze met de hoogste mate van geluk heeft de voorkeur van de agent.\n",
    "\n",
    "Utility-based agents zullen altijd voor een zo hoog mogelijke Utility gaan en dus proberen de Utility Function te maximaliseren.\n",
    "\n",
    "## Prisoners Dilemma\n",
    "\n",
    "Bij het Prisoners Dilemma onstaat er een niet-optimale voor twee partijen welke beide voor dezelfde keuze staan. Beide partijen hebben een eigen dominante keuze en zullen niet uit zichzelf, en zonder verandering van de ander, hun keuze wijzigen.\n",
    "\n",
    "> Een voorbeeld, vrij naar: https://www.economielokaal.nl/prisonersdilemma/\n",
    "\n",
    "> Alice en Bob hebben zojuist Carol overvallen en zijn opgepakt en apart van elkaar opgesloten. Beiden krijgen de keuze om te zwijgen of om te bekennen. Als beiden zwijgen, heeft de politie niet genoeg bewijs en krijgen ze beiden slechts één jaar cel. Als beiden bekennen, is er genoeg bewijs en krijgen beiden tien jaar cel. Als slechts één iemand bekend, maar de ander zwijgt, dan krijgt degene die bekend geen straf vanwege de medewerking en krijgt de ander een dubbele straf van twintig jaar.\n",
    "\n",
    "Laten we de casus van Alice uitwerken:  \n",
    "- Als Bob zwijgt, dan kan Alice het beste bekennen en gaat ze vrijuit\n",
    "  - Alice gaat namelijk liever vrijuit dan dat ze ook zwijgt en een jaar cel krijgt\n",
    "- Als Bob bekent, dan kan Alice het beste bekennen en krijgt ze tien jaar cel. \n",
    "  - Als Alice zou zwijgen dan zou ze twintig jaar cel krijgen\n",
    "\n",
    "De dominante keuze voor Alice is dus om te bekennen. Bob zal dezelfde strategie spelen. Het gevolg hiervan is dat beiden tien jaar de cel ingaan. Als Alice en Bob in dezelfde ruimte worden verhoord, dan zouden ze de afspraak kunnen maken om beiden te zwijgen. Als ze beiden zwijgen, dan krijgen ze beiden maar één jaar cel, dit zou een optimalere oplossing voor beiden zijn. Door samen te werken zou er voor beiden een betere oplossing ontstaan. Echter, als slechts één iemand zijn/haar strategie zou aanpassen, dan zou dit slecht uitpakken voor diegene. Dit is dan ook de reden dat beiden voor het eigenbelang gaan en niet voor het gezamelijke belang.\n",
    "\n",
    "> Alice en Bob hebben vóór de overval op Carol afgesproken te zwijgen indien ze gepakt worden. Ze worden vervolgens daadwerkelijk gesnapt en worden verhoort. Bob houdt zich niet aan de belofte en bekent schuld. Alice houdt zich echter wel aan de belofte en gaat hierdoor voor tien jaar de cel in. Een volgende keer dat Alice en Bob een overval gaan plegen, zal Alice zich ook niet meer aan de afspraak met Bob houden. Bob is immers niet meer te vertrouwen.\n",
    "\n",
    "TODO: Uitbreiden met Nash Evenwicht"
   ],
   "cell_type": "markdown",
   "metadata": {}
  },
  {
   "source": [
    "## Normal Form Games\n",
    "\n",
    "Normal Form Games worden genoteerd als $(N, A, u)$ waarbij $N$ staat voor het aantal agenten, iedere set $A_i$ binnen $A$ de mogelijke acties van agent $i$ beschrijft en iedere $u_i$ binnen $u$ de utility functie beschrijft van agent $i$.\n",
    "\n",
    "> _(...) the normal-form representation is arguably the most fundamental in game theory._\n",
    "\n",
    "TODO: Maar wat zijn nou eigenlijk Normal Form Games? Definitie?\n",
    "\n",
    "Er zijn verschillende typen _Normal Form Games_. Een hiervan is het zojuist genoemde Prisoners Dilemma.\n",
    "\n",
    "### Common Payoff Games\n",
    "\n",
    "Het maximaliseren van de gemeenschappelijke beloning. Agenten onderling hebben geen tegenstrijdige interesses. De utility van een actie is voor iedere agent exact hetzelfde. Oftewel: $u_i(a) = u_j(a)$ voor dezelfde actie $a$. Een voorbeeld hiervan kunnen twee chauffeurs zijn op tegemoetkomende wegen. Als zij beiden maar voor de actie _rechts aanhouden_ óf voor de actie _links aanhouden_ gaan, dan is de gemeenschappelijke beloning het grootst.\n",
    "\n",
    "### Constant Sum Games\n",
    "\n",
    "In een Constant Sum Game is de som van de utility, zijnde $c$, van alle agenten constant, ongeacht de gekozen acties van de agenten. Voor iedere combinatie van gekozen acties, is de totale utility $c$ hetzelfde. Voor de eenvoud wordt aangenomen dat de waarde van $c$ gelijk staat aan $0$. Dit is dan ook de reden dat deze games ook wel _Zero Sum Games_ worden genoemd. Een voorbeeld hiervan is het spelletje _Matching Pennies_:\n",
    "\n",
    "> Twee spelers gooien iedere een munt op. Als beide munten op hetzelfde uitkomen, wint de ene speler. Als beide munten op iets anders komen, wint de andere speler.\n",
    "\n",
    "In dit spel wint er altijd één speler en verliest er altijd één speler. De beloning en het verlies is voor beiden hetzelfde en dus is de totale utility $c$ hetzelfde."
   ],
   "cell_type": "markdown",
   "metadata": {}
  },
  {
   "source": [
    "_Normal Form Games_ kunnen met verschillende strategiëen door een agent worden gespeeld.\n",
    "\n",
    "### Pure Strategy\n",
    "\n",
    "Bij de Pure Strategy speelt een agent altijd één en dezelfde actie.\n",
    "\n",
    "### Mixed Strategy\n",
    "\n",
    "De agent kiest, gegeven een kansdistributie, willekeurige acties.\n",
    "\n",
    "---\n",
    "\n",
    "De set van alle acties die met een kans $P > 0$ gekozen kunnen worden door agent $i$ gegeven Mixed Strategy $s_i$ wordt ook wel de support van $s_i$ genoemd. Volgens deze definitie is de Pure Strategy een Mixed Strategy waarbij de gekozen actie de enige actie is met een kans $P > 0$, namelijk $P = 1$. De support van deze Pure Strategy is dan de gekozen actie.\n",
    "\n",
    "De verwachte utility van een strategie is de gewogen som van de utilities van alle mogelijke acties. De utility van een actie wordt gewogen met de kans op deze actie.\n",
    "\n"
   ],
   "cell_type": "markdown",
   "metadata": {}
  },
  {
   "cell_type": "code",
   "execution_count": null,
   "metadata": {},
   "outputs": [],
   "source": []
  }
 ]
}