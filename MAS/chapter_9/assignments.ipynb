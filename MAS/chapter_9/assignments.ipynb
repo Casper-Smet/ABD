{
 "cells": [
  {
   "cell_type": "markdown",
   "id": "adjacent-chaos",
   "metadata": {},
   "source": [
    "# Aggregating Preferences: Social Choice\n",
    "\n",
    "A simple example of the designer perspective is voting. How should a central authority pool the preferences of different agents so as to best reflect the wishes of the population as a whole? It turns out that voting, the kind familiar from our political and other institutions, is only a special case of the general class of _social choice problems_. Social choice is a motivational but nonstrategic theory—agents have preferences, but do not try to camouflage them in order to manipulate the outcome (of voting, for example) to ther personal advantage.  \n",
    "\n",
    "An good example for social choice theory is plurality voting. Here we ask every voter to vote for his/her favorite choice after which the choice that received the largest number of votes is chosen. This is called the _plurality_ method. This method is quite standard but not without problems, because there is a need to select a tie-breaking rule (when two choices are equally favored).\n",
    "\n",
    "### Condorcet condition\n",
    "This condition states that if there exists a candidate $x$ such that for all other candidates $y$ at least half the voters prefer $x$ to $y$, then $x$ must be chosen.  \n",
    "\n",
    "For example, with the following order in place:  \n",
    "$$\\begin{aligned} a &\\succ b \\succ c \\\\ b &\\succ c \\succ a \\\\ c &\\succ b \\succ a \\end{aligned}$$\n",
    "With the plurality method there would be a tie between all three candidates and so a tie breaker would be activated. However, the Condorcet condition would choose $b$, since two of the three candidates prefer $b$ to $a$ and likewise prefer $b$ to $c$.  \n",
    "  \n",
    "But the Condorcet isn't without problems. When the following order is in place:\n",
    "$$\\begin{aligned} a &\\succ b \\succ c \\\\ b &\\succ c \\succ a \\\\ c &\\succ a \\succ b \\end{aligned}$$\n",
    "The Condorcet condition does not tell what to do here, because there is no real preference displayed."
   ]
  },
  {
   "cell_type": "code",
   "execution_count": 1,
   "id": "fresh-spyware",
   "metadata": {},
   "outputs": [],
   "source": [
    "import operator as op\n",
    "import random\n",
    "import itertools\n",
    "from typing import List\n",
    "from dataclasses import dataclass"
   ]
  },
  {
   "cell_type": "markdown",
   "id": "fitting-shannon",
   "metadata": {},
   "source": [
    "## Voting methods\n",
    "Now some voting methods are displayed and explained"
   ]
  },
  {
   "cell_type": "code",
   "execution_count": 2,
   "id": "nearby-collector",
   "metadata": {},
   "outputs": [],
   "source": [
    "@dataclass\n",
    "class Vote:\n",
    "    choices: List[str]\n",
    "    ranking: List[int]\n",
    "\n",
    "\n",
    "class VoteCollection:\n",
    "    def __init__(self):\n",
    "        self.box = []\n",
    "    \n",
    "    def add_vote(self, vote: Vote):\n",
    "        if len(vote.choices) == len(vote.ranking):\n",
    "            self.box.append(vote)\n",
    "        else:\n",
    "            print(\"illegal vote\")\n",
    "    \n",
    "    def make_count_register(self):\n",
    "        register = {}\n",
    "\n",
    "# Make the votes and fill up the votecollection\n",
    "transformers = [\"Optimus Prime\", \"Bumblebee\", \"Megatron\", \"Ironhide\", \"Ratchet\"]\n",
    "vote_amount = 200  # amount of total votes \n",
    "\n",
    "\n",
    "votes = VoteCollection()\n",
    "for _ in range(vote_amount):\n",
    "    votes.add_vote(Vote(random.sample(transformers, len(transformers)), [x for x in range(1, len(transformers)+1)]))"
   ]
  },
  {
   "cell_type": "markdown",
   "id": "paperback-camcorder",
   "metadata": {},
   "source": [
    "### plurality voting\n",
    "_Each voter casts a single vote. The candidate with the most votes is selected._  \n",
    "  \n",
    "With this method ties must be broken according to a tie-breaking rule (e.g., a runoff election between the first-place candidates, alphabetic order of names, etc). "
   ]
  },
  {
   "cell_type": "code",
   "execution_count": 3,
   "id": "floppy-jumping",
   "metadata": {},
   "outputs": [
    {
     "name": "stdout",
     "output_type": "stream",
     "text": [
      "Bumblebee 48\n",
      "Ironhide 43\n",
      "Megatron 42\n",
      "Ratchet 40\n",
      "Optimus Prime 27\n"
     ]
    },
    {
     "data": {
      "text/plain": [
       "'Winner is: Bumblebee'"
      ]
     },
     "execution_count": 3,
     "metadata": {},
     "output_type": "execute_result"
    }
   ],
   "source": [
    "def plurality_voting(votes: VoteCollection, verbose: bool = False):\n",
    "    \"\"\"Calculates the most favored choice based on the plurality method.\"\"\"\n",
    "    vote_register = {}\n",
    "    for vote in votes.box:\n",
    "        first_choice = vote.choices[0]\n",
    "        if first_choice in vote_register:\n",
    "            vote_register[first_choice] += 1\n",
    "        else:\n",
    "            vote_register[first_choice] = 1\n",
    "\n",
    "    if verbose:\n",
    "        for key, value in sorted(vote_register.items(), key=op.itemgetter(1), reverse=True):\n",
    "            print(key, value)\n",
    "\n",
    "    return f\"Winner is: {max(vote_register.items(), key=(lambda k: vote_register[k[0]]))[0]}\"\n",
    "\n",
    "plurality_voting(votes, verbose=True)"
   ]
  },
  {
   "cell_type": "markdown",
   "id": "civilian-irish",
   "metadata": {},
   "source": [
    "### Cumulative voting\n",
    "_Each voter is given k votes, which can be\n",
    "cast arbitrarily (e.g., several votes could be cast for one candidate, with the remain\u0002der of the votes being distributed across other candidates). The candidate with the\n",
    "most votes is selected._"
   ]
  },
  {
   "cell_type": "markdown",
   "id": "lonely-developer",
   "metadata": {},
   "source": [
    "### Approval voting\n",
    "_Each voter can cast a single vote for as many of the candidates as he wishes; the candidate with the most votes is selected._  \n",
    "  \n",
    "\n"
   ]
  },
  {
   "cell_type": "markdown",
   "id": "subjective-cheat",
   "metadata": {},
   "source": [
    "### Plurality with elimination\n",
    "_Each voter casts a single vote for their most-preferred candidate. The candidate with the fewest votes is eliminated. Each voter who cast a vote for the eliminated candidate casts a new vote for the candidate he most prefers among the candidates that have not been eliminated. This process is repeated until only one candidate remains._  \n",
    "  \n"
   ]
  },
  {
   "cell_type": "code",
   "execution_count": 4,
   "id": "alleged-placement",
   "metadata": {},
   "outputs": [
    {
     "name": "stdout",
     "output_type": "stream",
     "text": [
      "Vote distribution:\n",
      "{'Optimus Prime': 27, 'Ratchet': 40, 'Megatron': 42, 'Bumblebee': 48, 'Ironhide': 43}\n",
      "Loser is: ('Optimus Prime', 27)\n",
      "\n",
      "Vote distribution:\n",
      "{'Ratchet': 47, 'Megatron': 52, 'Bumblebee': 55, 'Ironhide': 46}\n",
      "Loser is: ('Ironhide', 46)\n",
      "\n",
      "Vote distribution:\n",
      "{'Ratchet': 64, 'Megatron': 68, 'Bumblebee': 68}\n",
      "Loser is: ('Ratchet', 64)\n",
      "\n",
      "Vote distribution:\n",
      "{'Megatron': 106, 'Bumblebee': 94}\n",
      "Loser is: ('Bumblebee', 94)\n",
      "\n"
     ]
    },
    {
     "data": {
      "text/plain": [
       "'Winner is: Megatron'"
      ]
     },
     "execution_count": 4,
     "metadata": {},
     "output_type": "execute_result"
    }
   ],
   "source": [
    "def plurwithelem_voting(votes: VoteCollection, verbose: int = False):\n",
    "    \"\"\"Calculates the favorite choice based on the plurality with elimination method.\"\"\"\n",
    "    available_candidates = list(set(itertools.chain.from_iterable([x.choices for x in votes.box])))\n",
    "\n",
    "    while len(available_candidates) > 1:\n",
    "        vote_register = {k:0 for k in available_candidates}\n",
    "\n",
    "        # divide the votes\n",
    "        for vote in votes.box:\n",
    "            for pref in vote.choices:\n",
    "                if pref in available_candidates:\n",
    "                    vote_register[pref] += 1\n",
    "                    break\n",
    "\n",
    "        # count the votes and kick out the least favorite\n",
    "        min_votes = min(vote_register.items(), key=(lambda k: vote_register[k[0]]))\n",
    "        available_candidates.remove(min_votes[0])\n",
    "\n",
    "        if verbose:\n",
    "            print(f\"Vote distribution:\\n{vote_register}\\nLoser is: {min_votes}\\n\")\n",
    "\n",
    "    return f\"Winner is: {available_candidates[0]}\"\n",
    "\n",
    "plurwithelem_voting(votes, verbose=True)"
   ]
  },
  {
   "cell_type": "markdown",
   "id": "cross-grounds",
   "metadata": {},
   "source": [
    "### Borda voting\n",
    "_Each voter submits a full ordering on the candidates. This ordering contributes points to each candidate; if there are $n$ candidates, it contributes $n − 1$ points to the highest ranked candidate, $n − 2$ points to the second highest, and so on; it contributes no points to the lowest ranked candidate. The winners are those whose total sum of points from all the voters is maximal._\n"
   ]
  },
  {
   "cell_type": "code",
   "execution_count": 5,
   "id": "alien-primary",
   "metadata": {},
   "outputs": [
    {
     "name": "stdout",
     "output_type": "stream",
     "text": [
      "{'Optimus Prime': 372, 'Ratchet': 395, 'Megatron': 426, 'Bumblebee': 411, 'Ironhide': 396}\n"
     ]
    },
    {
     "data": {
      "text/plain": [
       "'Winner is: Megatron'"
      ]
     },
     "execution_count": 5,
     "metadata": {},
     "output_type": "execute_result"
    }
   ],
   "source": [
    "def borda_voting(votes: VoteCollection, verbose: int = False):\n",
    "    \"\"\"Calculates the favorite choice based on the borda voting method.\"\"\"\n",
    "    available_candidates = list(set(itertools.chain.from_iterable([x.choices for x in votes.box])))\n",
    "    n = len(available_candidates)\n",
    "    vote_register = {k:0 for k in available_candidates}\n",
    "    \n",
    "    # contribute the points to each candidate\n",
    "    for vote in votes.box:\n",
    "        for candidate, rank in zip(vote.choices, vote.ranking):\n",
    "            vote_register[candidate] += n - rank\n",
    "        \n",
    "    if verbose:\n",
    "        print(vote_register)\n",
    "    \n",
    "    return f\"Winner is: {max(vote_register.items(), key=(lambda k: vote_register[k[0]]))[0]}\"\n",
    "\n",
    "borda_voting(votes, verbose=True)"
   ]
  },
  {
   "cell_type": "markdown",
   "id": "changed-speech",
   "metadata": {},
   "source": [
    "## Pairwise elimination\n",
    "_In advance, voters are given a schedule for the order in which pairs of candidates will be compared. Given two candidates determine the candidate that each voter prefers. The candidate who is preferred by a minority of voters is eliminated, and the next pair of noneliminated candidates in the schedule is considered. Continue until only one candidate remains._\n"
   ]
  },
  {
   "cell_type": "markdown",
   "id": "distributed-appendix",
   "metadata": {},
   "source": [
    "## Voting paradoxes\n",
    "\n",
    "### Condorcet condition\n",
    "\n",
    "\n",
    "### Sensitivity to a losing candidate\n",
    "\n",
    "\n",
    "### Sensitivity to the agenda setter\n",
    "\n"
   ]
  },
  {
   "cell_type": "code",
   "execution_count": null,
   "id": "magnetic-confusion",
   "metadata": {},
   "outputs": [],
   "source": []
  },
  {
   "cell_type": "code",
   "execution_count": null,
   "id": "aggressive-construction",
   "metadata": {},
   "outputs": [],
   "source": []
  }
 ],
 "metadata": {
  "kernelspec": {
   "display_name": "Python 3",
   "language": "python",
   "name": "python3"
  },
  "language_info": {
   "codemirror_mode": {
    "name": "ipython",
    "version": 3
   },
   "file_extension": ".py",
   "mimetype": "text/x-python",
   "name": "python",
   "nbconvert_exporter": "python",
   "pygments_lexer": "ipython3",
   "version": "3.8.5"
  }
 },
 "nbformat": 4,
 "nbformat_minor": 5
}
