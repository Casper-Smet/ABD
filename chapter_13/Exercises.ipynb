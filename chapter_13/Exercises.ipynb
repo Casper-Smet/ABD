{
 "cells": [
  {
   "cell_type": "markdown",
   "id": "appointed-exemption",
   "metadata": {},
   "source": [
    "# Exercises chapter 13"
   ]
  },
  {
   "cell_type": "markdown",
   "id": "double-swift",
   "metadata": {},
   "source": [
    "## 13.1\n",
    "**Show from first principles that** $P(a | b \\land a) = 1$  \n",
    "  \n",
    "The definition of conditional probability goes as follows: $P(a|b) = \\frac{P(a \\land b)}{P(b)}$.  \n",
    "With the definition of the conditional probability, logical connectives, commutativity and associativity we can rewrite the given probability as follows:  \n",
    "$P(a | b \\land a) = \\frac{P(a \\land (b \\land a))}{P(b \\land a)} = \\frac{P(b \\land a)}{P(b \\land a)} = 1$"
   ]
  },
  {
   "cell_type": "markdown",
   "id": "color-consent",
   "metadata": {},
   "source": [
    "## 13.4\n",
    "First we make a full join distribution table of $2 \\times 2$ with $A$ and $B$.  \n",
    "$\\begin{array} {|r|r|}\\hline  & B & \\lnot B \\\\ \\hline A & a & b \\\\ \\hline \\lnot A & c & d \\\\ \\hline  \\end{array}$  \n",
    "  \n",
    "Based on the beliefs we get the following equations:  \n",
    "- $P(A) = a + b = 0.4$\n",
    "- $P(B) = a + c = 0.3$\n",
    "- $P(A \\lor B) = a + b + c = 0.5$\n",
    "- $a + b + c + d = 1.0$\n",
    "\n",
    "From these equations we can derive that $a = 0.2, b = 0.2, c = 0.1, and d = 0.5$  \n",
    "Therefore, the probability of $P(A \\land B) = 0.2$"
   ]
  },
  {
   "cell_type": "markdown",
   "id": "swiss-spencer",
   "metadata": {},
   "source": [
    "## 13.7\n",
    "**Consider the set of all possible five-card poker hands dealt fairly from a standard deck of fifty-two cards**  \n",
    "**1. How many atomic events are there in the joint probability distribution (i.e., how many five-cards hands are there?**  \n",
    "There are  $\\bigl( \\begin{smallmatrix} 52 \\\\ 5 \\end{smallmatrix} \\bigr) = \\frac{52!}{(52 - 5)! \\times 5!} = 2,598,960$ possible five-card hands.  \n",
    "  \n",
    "**2. What is the probability of each atomic event?**  \n",
    "If the cards are dealt fairly there, each hand has a probability of $1/2.598.960$.  \n",
    "  \n",
    "**3. What is the probability of being dealt a royal straigth flush**  \n",
    "There are 4 royal straight flushes in the deck, so the probability should be $4/2.598.960 = 1/649.740$\n",
    "\n",
    "**and a four of a kind?**\n",
    "There are 13 different four of a kinds in the deck. Furthermore the last card can be anything (so just one of the remaining 48 cards). So the probability should be:  \n",
    "$(13 \\times 48)/2.598.960 = 1/4.165$"
   ]
  },
  {
   "cell_type": "markdown",
   "id": "elementary-technician",
   "metadata": {},
   "source": [
    "## 13.8\n",
    "**Compute the expected payback percentage of the machine (for each coin played, what is the expected coin return)?**  \n",
    "For the first four cases the probability is $(\\frac{1}{4})^3 = \\frac{1}{64}$  \n",
    "For the probability of *cherry/cherry?* we first multiply the propability of two cherries after each other and subtract the chance of another cherry (because otherwise we take in the chance of getting 3 cherries), so $(\\frac{1}{4})^2 - \\frac{1}{64} = \\frac{3}{64}$.  \n",
    "Lastly we get the probability of only 1 cherry, where we subtract the chance of 2 cherries and 3 sequential cherries, so $(\\frac{1}{4})^1 - \\frac{3}{64} - \\frac{1}{64} = \\frac{12}{64}$.  \n",
    "  \n",
    "Eventually we calculate the expected payback:  \n",
    "$ 21 \\cdot 1/64 + 16 \\cdot 1/64 + 5 \\cdot 1/64 + 3 \\cdot 1/64 + 2 \\cdot 3/64 + 1 \\cdot 12/64 = 61/64$  \n",
    "So the expected payback percentage is $61/64$, which is smaller than 1.  \n",
    "  \n",
    "**Compute the probability that playing the slot machine once will result in a win**\n",
    "Here we can just add all the probabilities:  \n",
    "$ 1/64 + 1/64 + 1/64 + 1/64 + 3/64 + 12/64 = 19/64$  \n",
    "  \n",
    "**Estimate the mean and median number of plays that you can expect to make untill you go broke starting with 8 coins**"
   ]
  },
  {
   "cell_type": "code",
   "execution_count": 1,
   "id": "closed-silence",
   "metadata": {},
   "outputs": [
    {
     "name": "stdout",
     "output_type": "stream",
     "text": [
      "runs: 10000\n",
      "mean: 464.6678\n",
      "median: 15.0\n"
     ]
    }
   ],
   "source": [
    "import random\n",
    "import statistics as stat\n",
    "\n",
    "def play():\n",
    "    coins = 8\n",
    "    games = 0\n",
    "    \n",
    "    while coins > 0:\n",
    "        coins -= 1\n",
    "        games += 1\n",
    "        \n",
    "        slots = [random.choice([\"bar\", \"bell\", \"lemon\", \"cherry\"]) for x in range(3)]\n",
    "        \n",
    "        # logic part\n",
    "        if slots[0] == slots[1]:\n",
    "            if slots[1] == slots[2]:\n",
    "                if slots[0] == \"bar\":\n",
    "                    coins += 21\n",
    "                elif slots[0] == \"bell\":\n",
    "                    coins += 16\n",
    "                elif slots[0] == \"lemon\":\n",
    "                    coins += 5\n",
    "                else:\n",
    "                    coins += 3\n",
    "            else:\n",
    "                if slots[0] == \"cherry\":\n",
    "                    coins += 2\n",
    "        else:\n",
    "            if slots[0] == \"cherry\":\n",
    "                coins += 1\n",
    "        \n",
    "    return games\n",
    "\n",
    "def test():\n",
    "    runs = 10000\n",
    "    results = [play() for x in range(runs)]\n",
    "    mean, median = stat.mean(results), stat.median(results)\n",
    "    print(f\"runs: {runs}\\nmean: {mean}\\nmedian: {median}\")\n",
    "\n",
    "test()"
   ]
  }
 ],
 "metadata": {
  "kernelspec": {
   "display_name": "Python 3",
   "language": "python",
   "name": "python3"
  },
  "language_info": {
   "codemirror_mode": {
    "name": "ipython",
    "version": 3
   },
   "file_extension": ".py",
   "mimetype": "text/x-python",
   "name": "python",
   "nbconvert_exporter": "python",
   "pygments_lexer": "ipython3",
   "version": "3.7.9"
  }
 },
 "nbformat": 4,
 "nbformat_minor": 5
}
