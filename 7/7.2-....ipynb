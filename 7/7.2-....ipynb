{
 "cells": [
  {
   "cell_type": "markdown",
   "id": "expanded-fifteen",
   "metadata": {},
   "source": [
    "## 7.2\n",
    "\n",
    "Mythical = a<br>\n",
    "Immortal = b<br>\n",
    "Mammal = c<br>\n",
    "Horned = d<br>\n",
    "Magical = e<br>\n",
    "\n",
    "- a → b\n",
    "- ¬a → (¬b ∧ c)\n",
    "- (b ∨ c) → d\n",
    "- d → e\n",
    "\n",
    "\n",
    "The unicorn is magical and horned.\n",
    "\n"
   ]
  },
  {
   "cell_type": "code",
   "execution_count": null,
   "id": "pressing-noise",
   "metadata": {},
   "outputs": [],
   "source": []
  }
 ],
 "metadata": {
  "kernelspec": {
   "display_name": "Python 3",
   "language": "python",
   "name": "python3"
  },
  "language_info": {
   "codemirror_mode": {
    "name": "ipython",
    "version": 3
   },
   "file_extension": ".py",
   "mimetype": "text/x-python",
   "name": "python",
   "nbconvert_exporter": "python",
   "pygments_lexer": "ipython3",
   "version": "3.7.9"
  }
 },
 "nbformat": 4,
 "nbformat_minor": 5
}
