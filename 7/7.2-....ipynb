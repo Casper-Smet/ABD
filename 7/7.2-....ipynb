{
 "cells": [
  {
   "cell_type": "markdown",
   "id": "expanded-fifteen",
   "metadata": {},
   "source": [
    "## 7.2\n",
    "\n",
    "1. Mythical → Immortal\n",
    "2. ¬Mythical → (¬Immortal ∧ Mammal)\n",
    "3. (Immortal ∨ Mammal) → Horned\n",
    "4. Horned → Magical\n",
    "\n",
    "Because its either immortal or a mammal (1), it must be horned\n",
    "Because it is horned, it is magical (4)\n",
    "There is no way to show whether it is mythical yes or no."
   ]
  },
  {
   "cell_type": "code",
   "execution_count": null,
   "id": "pressing-noise",
   "metadata": {},
   "outputs": [],
   "source": []
  }
 ],
 "metadata": {
  "kernelspec": {
   "display_name": "Python 3",
   "language": "python",
   "name": "python3"
  },
  "language_info": {
   "codemirror_mode": {
    "name": "ipython",
    "version": 3
   },
   "file_extension": ".py",
   "mimetype": "text/x-python",
   "name": "python",
   "nbconvert_exporter": "python",
   "pygments_lexer": "ipython3",
   "version": "3.7.9"
  }
 },
 "nbformat": 4,
 "nbformat_minor": 5
}
