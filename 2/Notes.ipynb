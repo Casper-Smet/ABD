{
 "cells": [
  {
   "cell_type": "markdown",
   "id": "worst-greece",
   "metadata": {},
   "source": [
    "# 2. Intelligent agents"
   ]
  },
  {
   "cell_type": "markdown",
   "id": "filled-karen",
   "metadata": {},
   "source": [
    "## 2.1\n",
    "An agent is anything that can be viewed as perceiving its environment through sensors and acting upon that environment through actuators.\n",
    "\n",
    "Agent’s behaviour is described by the agent function that maps any given percept sequence to an action.\n",
    "\n",
    "- Percept sequence\n",
    "    - The complete history of everything the agent has ever perceived.  \n",
    "\n",
    "## 2.2\n",
    "A **rational agent** is an agent that does the right thing (every entry in the table for the agent function is filled out correctly).\n",
    "\n",
    "The **performance measure** is the notion of desirability that evaluates any given sequence of environment states (environment states, because an agent can delude himself).  \n",
    "*It is better to design performance measures according to what one actually wants in the environment, rather than according to how one thinks the agent should behave.*  \n",
    "  \n",
    "An agent lacks autonomy when it relies on the prior knowledge of its designer rather than on its own percepts. The incorporation of learning allows one to design a single rational agent that will succeed in a vast variety of environments.\n",
    "\n",
    "## 2.3\n",
    "The first step in designing an agent is specifying the task environment (the \"problem\" to which rational agents are the \"solution\".  \n",
    "  \n",
    "### PEAS\n",
    "- **P** -> Performance measure (tradeoffs are required when goals conflict)\n",
    "- **E** -> Environment\n",
    "- **A** -> Actuators (the means of control of the agent)\n",
    "- **S** -> Sensors (for the perception of the environment)\n",
    "\n",
    "Furthermore the task environment can have some properties (dimensions)  \n",
    "- Fully observable vs Partially observable\n",
    "    - A task environment is effectively fully observable if the sensors detect all aspects that are relevant (depends on the performance measure) to the choice of action\n",
    "- Single agent vs multi-agent\n",
    "    - The distinction between single agent or multi-agent environments can be subtle. Because when is something another agent or just a behaving according to the laws of physics.\n",
    "- Deterministic vs stochastic\n",
    "    - A task environment is deterministic if the next state of the environment is completely determined by the current state and the action executed by the agent.\n",
    "    - An environment is called uncertain when it is not fully observable or not deterministic.\n",
    "    - **note**: The use of the word *stochastic* generally implies that uncertainty about outcomes is quantified in terms of probabilities; a nondeterministic environment is one in which actions are characterized by their possible outcomes, but no probabilities are attached to them.\n",
    "- Episodic vs Sequential\n",
    "    - In an episodic environment, the agent's experience is divided into episodes. In each episode the agent receives a percept and makes an action. The next episode does not depend on the actions taken in the previous episode!\n",
    "- Static vs dynamic\n",
    "    - If the environment can change while an agent is deliberating than we call the environment dynamic for that agent.\n",
    "- Discrete vs Continious\n",
    "    - The discrete/continious applies to the state of the environment, to the way time is handles and the way times is handles. For instance, with chess, there is a finite amount of distinct states and has a discrete set of actions and percepts.\n",
    "- Known vs unknown\n",
    "    - Refers to the agent's state of knowledge about the *law of physics* of the environment.\n",
    "    - It is possible for known environment to be partially observable (e.g. poker). The agent knows the rules but is still unable to see all the cards.\n",
    "    \n",
    "## Structure of agents"
   ]
  }
 ],
 "metadata": {
  "kernelspec": {
   "display_name": "Python 3",
   "language": "python",
   "name": "python3"
  },
  "language_info": {
   "codemirror_mode": {
    "name": "ipython",
    "version": 3
   },
   "file_extension": ".py",
   "mimetype": "text/x-python",
   "name": "python",
   "nbconvert_exporter": "python",
   "pygments_lexer": "ipython3",
   "version": "3.7.9"
  }
 },
 "nbformat": 4,
 "nbformat_minor": 5
}
