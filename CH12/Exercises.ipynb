{
 "cells": [
  {
   "cell_type": "markdown",
   "id": "faced-questionnaire",
   "metadata": {},
   "source": [
    "# Chapter 12\n",
    "\n",
    "## 12.1\n",
    "$Mark(m)$\n",
    "\n",
    "$Mark(m) \\to ExhaustiveDecomposition(m, X, O, Clean)$\n",
    "\n",
    "$p \\in Players\\ Uses(p, X) = P_{o}$\n",
    "\n",
    "$p \\in Players\\ Uses(p, O) = P_{x}$\n",
    "\n",
    "XWins, OLost: $x_{1}, x_{2}, x_{3} X(x_{1}) \\land X(x_{2}) \\land X(x_{3}) \\land x_{1} \\neq x_{2} \\neq x_{3} \\land midOf(x_{1}, x_{2}, x_{3}) \\land \\neg Won(P_{o}) \\iff  Won(P_{x}) \\land Lost(P_{o})$\n",
    "\n",
    "OWins, XLost: $o_{1}, o_{2}, o_{3} O(o_{1}) \\land O(o_{2}) \\land O(o_{3}) \\land o_{1} \\neq o_{2} \\neq o_{3} \\land midOf(o_{1}, o_{2}, o_{3}) \\land \\neg Won(P_{x}) \\iff  Won(P_{o}) \\land Lost(P_{x})$"
   ]
  },
  {
   "cell_type": "markdown",
   "id": "traditional-imagination",
   "metadata": {},
   "source": [
    "## 12.5\n",
    "$Yesterday = Interval(now-24h, now)$\n",
    "\n",
    "$p \\in Persons \\to IsHuman(p) \\land Adult(p)/Adult(p)$\n",
    "\n",
    "$\\exists p_{j} \\in Persons = John$\n",
    "\n",
    "$\\exists p_{e} \\in Persons = Emily$\n",
    "\n",
    "\n",
    "$s_{nbs} \\in Supermarkets$\n",
    "\n",
    "$x \\in Typical(Tomatoes) \\to Red(x) \\land Round(x) \\land Weight(x, 123 grams)$\n",
    "\n",
    "$B: BunchOf(Tomato) \\land Weight(BunchOf(Tomato), 2 pounds)$\n",
    "\n",
    "$x \\in Typical(GroundBeef) \\to Red(x) \\land Ground(x) \\land Meat(x)$\n",
    "\n",
    "$Weight(B, 2 pounds) \\to Pounds(2) = Grams(907) = TomatoCount(B, 7) \\to [907 / 123] $\n",
    "\n",
    "$E_{1} \\in SuperMarketTrip \\land Shopper(E_{1}) \\land Bought(E_{1}, BunchOf(Tomato)) \\land Bought(E_{1}, Beef) $\n",
    "\n",
    " a. John is an adult, as John is in the category of Persons, and Person IsHuman and, unless abnormal (conflicting with our knowledge base), an Adult\n",
    " \n",
    " \n",
    " b. John bought 2 pounds of tomatoes, a Typical(Tomatoes) weighs 123 grams, 2 pounds of tomatoes equal 907 grams. Therefore, John bought two tomatoes\n",
    " \n",
    " c. John bought GroundBeef, Typical(GroundBeef) has in its definition that is must be meat, ergo, john bought meat.\n",
    " \n",
    " d. If the interval of Emily's event is inside of that of John, then they would see each other (true)\n",
    " \n",
    " e. The default value, unless conflicting with our knowledge base, is that tomatoes are grown on farms. Therefore, tomatoes are not made in supermarket\n",
    " \n",
    " f. The default value for \"what do people do with tomatoes\" is eat them, unless conflicting with our knowledge base. \n",
    " \n",
    " g. The default value for a supermarket is to sell deodorant\n",
    " \n",
    " h. Buying groceries costs money, to spend money, one must use money or a credit card, therefore John brought a credit card or some money to a supermarket\n",
    " \n",
    " i. If something costs money, you end up with less money. John bought groceries, used money, and therefore has less money after going to the supermarket."
   ]
  },
  {
   "cell_type": "markdown",
   "id": "flying-sperm",
   "metadata": {},
   "source": [
    "## 12.7\n",
    "$Always(i_{n}) \\iff \\ Interval(i_{b}) \\land Interval(i_{n}) \\to Begin(i_{b}) < Begin(i_{n}) \\land End(i_{b}) > End(i_{n})$\n",
    "\n",
    "$Fixed(Location(x)) \\iff \\forall i \\ Interval(i) \\to T(Equals(Location, x), i)$"
   ]
  }
 ],
 "metadata": {
  "kernelspec": {
   "display_name": "Python 3",
   "language": "python",
   "name": "python3"
  },
  "language_info": {
   "codemirror_mode": {
    "name": "ipython",
    "version": 3
   },
   "file_extension": ".py",
   "mimetype": "text/x-python",
   "name": "python",
   "nbconvert_exporter": "python",
   "pygments_lexer": "ipython3",
   "version": "3.7.9"
  }
 },
 "nbformat": 4,
 "nbformat_minor": 5
}
