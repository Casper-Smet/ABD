{
 "cells": [
  {
   "cell_type": "markdown",
   "id": "threatened-ghana",
   "metadata": {},
   "source": [
    "# Chapter 12; KNOWLEDGE REPRESENTATION\n",
    "## 12.1 Ontological Engineering\n",
    "\n",
    "Ontology is the formal naming and definitions of categories, properties of said categories, and relationships between the concepts, data and entities that substantiate one. So, essentially, ontology is the art of defining objects, events, time and maybe other things using first order logic.\n",
    "\n",
    "In later chapters, first order logic is supplemented by modal logic, event calculus and ...\n",
    "\n",
    "## 12.2 Categories and Objects\n",
    "### The basketball analogy\n",
    "Say, you have an object, BB. Said object is roughly spherical, orange, has a diameter of 24 cm and can be recognised as a ball.\n",
    "\n",
    "Now say, you have a category called Basketballs. Basketballs are orange, round, have a diameter of about 24 cm and are balls. Therefore, you can state that BB is a basketball. Ergo, BB is a member of the category Basketballs. More so, both BB and Baskteball are Balls. Therefore, Basketballs are a subclass of the category Basketballs.\n",
    "\n",
    "Moving down in order of size:\n",
    "\n",
    "* Category\n",
    "* Subclass\n",
    "* Member\n",
    "\n",
    "Though of course, this (could be) recursive. Dogs is a member of Domesticated Species, Rottweilers is a member of Dogs, therefore Dogs is a category of itself. Ergo, dogs is a subclass of Domesticated Species. Domesticated Species is also a subclass of Animalia, etc, etc.\n",
    "\n",
    "### Disjoint, ExhaustiveDecomposition, and Partition\n",
    "Three sides of the same coin. Disjoint means that classes A and B have no members in common (no organism is both plant and animal).\n",
    "ExhaustiveDecomposition means that if a is not a member of A, it must be a member of B or D. But also, that if a is a member of A, it could still be a member of B or D. Classes A,B,D may share members, but a must be in one of these classes.\n",
    "\n",
    "Then finally, Partition. Partition is a Disjoint ExhaustiveDecomposition. Class a must be in XOR A,B,D.\n",
    "\n",
    "### Physical composition\n",
    "A heart isn't a member of the Category Human, but having a heart is a defining property of being human. To show this connection, one can use the `PartOf` hierarchy. $PartOf(Heart, Human)$. `PartoF` is transitive and reflexive: $PartOf(Tire, CarWheel) \\land PartOf(CarWheel, Car) \\to PartOf(Tire, Car)$. See biped example on page 442 (composite objects).\n",
    "\n",
    "### Grouping objects\n",
    "Your initial reflex might be to use a set to group objects. This is a mistake if you want to ascribe any properties to this group, as a set is an abstract mathematical concept that can only contain elements.\n",
    "\n",
    "In order to group together objects, we can use a new concept called a `BunchOf`. We can treat this `BunchOf` as a new composite object, like the car and human mentioned above. This new object *can* have its own properties (e.g. weight or volume).\n",
    "When BunchOf is used on a set with just one element, it returns the one element."
   ]
  },
  {
   "cell_type": "code",
   "execution_count": 1,
   "id": "endless-rebound",
   "metadata": {},
   "outputs": [
    {
     "data": {
      "text/plain": [
       "{'memes': True, 'weight': 14}"
      ]
     },
     "execution_count": 1,
     "metadata": {},
     "output_type": "execute_result"
    }
   ],
   "source": [
    "class BunchOf:\n",
    "    def __init__(self, set_of_x, **kwargs):\n",
    "        items = set_of_x  # Imagine this being a hard typed set\n",
    "        for k, val in kwargs.items():  # and these are the properties\n",
    "            setattr(self, k, val)\n",
    "    \n",
    "    def __repr__(self):\n",
    "        return str(vars(self))  # Return properties\n",
    "\n",
    "BunchOf([1, 2, 3], memes=True, weight=14)"
   ]
  },
  {
   "cell_type": "markdown",
   "id": "intense-policy",
   "metadata": {},
   "source": [
    "### Typical objects\n",
    "Ontological definitions are pretty much always able to be disproven through counter example (my basketball is brown). Therefore, ontological definitions usually define the `natural kind` category. One useful approach for this problem is by using the `Typical` function (fnunctor), which maps a category to the subclass only containing the typical versions of the category. \n",
    "\n",
    "E.g., $Typical(Basketball)$ is the definition we gave above.\n",
    "\n",
    "### Things and stuff\n",
    "It is a thing if it is divisible and doesn't keeps its **intrinsic** properties, if it does it is stuff. Think of the difference between semantic and instance segmentation. Butter is butter, even when cut in half, you do not get two butters. Butter is therefore stuff. However, if you cut a Schnitzu in half, you no longer have a Schnitzu, you'll have two bits of corpse and some trauma though.\n",
    "\n",
    "Stuff can survive **individuation** (the process defined above), things cannot. A general rule of fist is that you can use **count nouns** (a dog, two cats) on things, and you use **mass nouns** (butter, sea) on stuff.\n",
    "\n",
    "## 12.3 Time is also stuff and things\n",
    "\n",
    "Time intervals, defined by tuple (i,i).\n",
    "\n",
    "Events happen over time "
   ]
  }
 ],
 "metadata": {
  "kernelspec": {
   "display_name": "Python 3",
   "language": "python",
   "name": "python3"
  },
  "language_info": {
   "codemirror_mode": {
    "name": "ipython",
    "version": 3
   },
   "file_extension": ".py",
   "mimetype": "text/x-python",
   "name": "python",
   "nbconvert_exporter": "python",
   "pygments_lexer": "ipython3",
   "version": "3.7.9"
  }
 },
 "nbformat": 4,
 "nbformat_minor": 5
}
